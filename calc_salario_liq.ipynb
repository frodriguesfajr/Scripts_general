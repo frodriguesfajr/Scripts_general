{
 "cells": [
  {
   "cell_type": "code",
   "execution_count": 14,
   "id": "be3ed8e8",
   "metadata": {},
   "outputs": [
    {
     "name": "stdout",
     "output_type": "stream",
     "text": [
      "11930.311\n"
     ]
    }
   ],
   "source": [
    "import pandas as pd\n",
    "# Dados para o cálculo\n",
    "salario_bruto = 16000.00\n",
    "inss_teto = 908.86\n",
    "dependentes = 2\n",
    "deducao_dependente = 189.59 * dependentes\n",
    "base_irrf = salario_bruto - inss_teto - deducao_dependente\n",
    "# Faixas de IRRF atualizadas (2025 estimado)\n",
    "# Tabela com base em faixas progressivas\n",
    "irrf_faixas = [\n",
    "    {\"limite\": 2112.00, \"aliquota\": 0.0, \"deducao\": 0.0},\n",
    "    {\"limite\": 2826.65, \"aliquota\": 0.075, \"deducao\": 158.40},\n",
    "    {\"limite\": 3751.05, \"aliquota\": 0.15, \"deducao\": 370.40},\n",
    "    {\"limite\": 4664.68, \"aliquota\": 0.225, \"deducao\": 651.73},\n",
    "    {\"limite\": float(\"inf\"), \"aliquota\": 0.275, \"deducao\": 884.96},\n",
    "]\n",
    "# Encontrar a faixa aplicável\n",
    "for faixa in irrf_faixas:\n",
    "    if base_irrf <= faixa[\"limite\"]:\n",
    "        aliquota_irrf = faixa[\"aliquota\"]\n",
    "        deducao_irrf = faixa[\"deducao\"]\n",
    "        break\n",
    "\n",
    "irrf = base_irrf * aliquota_irrf - deducao_irrf\n",
    "salario_liquido = salario_bruto - inss_teto - irrf\n",
    "print(salario_liquido)"
   ]
  },
  {
   "cell_type": "code",
   "execution_count": null,
   "id": "8097ad79",
   "metadata": {},
   "outputs": [],
   "source": [
    "# Criar DataFrame para a planilha\n",
    "planilha = pd.DataFrame({\n",
    "    \"Descrição\": [\n",
    "        \"Salário Bruto\",\n",
    "        \"Desconto INSS (teto)\",\n",
    "        \"Dedução por dependentes\",\n",
    "        \"Base de cálculo IRRF\",\n",
    "        f\"IRRF ({aliquota_irrf*100:.1f}%)\",\n",
    "        \"Salário Líquido Estimado\"\n",
    "    ],\n",
    "    \"Valor (R$)\": [\n",
    "        salario_bruto,\n",
    "        -inss_teto,\n",
    "        -deducao_dependente,\n",
    "        base_irrf,\n",
    "        -irrf,\n",
    "        salario_liquido\n",
    "    ]\n",
    "})\n",
    "# Salvar a planilha\n",
    "file_path = \"/mnt/data/planilha_salario_liquido.xlsx\"\n",
    "planilha.to_excel(file_path, index=False)\n",
    "\n",
    "file_path"
   ]
  }
 ],
 "metadata": {
  "kernelspec": {
   "display_name": "Python 3",
   "language": "python",
   "name": "python3"
  },
  "language_info": {
   "codemirror_mode": {
    "name": "ipython",
    "version": 3
   },
   "file_extension": ".py",
   "mimetype": "text/x-python",
   "name": "python",
   "nbconvert_exporter": "python",
   "pygments_lexer": "ipython3",
   "version": "3.10.10"
  }
 },
 "nbformat": 4,
 "nbformat_minor": 5
}
